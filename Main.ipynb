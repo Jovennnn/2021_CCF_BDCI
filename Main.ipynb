{
 "cells": [
  {
   "cell_type": "markdown",
   "metadata": {},
   "source": [
    "## 导包"
   ]
  },
  {
   "cell_type": "code",
   "execution_count": 1,
   "metadata": {},
   "outputs": [],
   "source": [
    "import matplotlib.pyplot as plt\n",
    "import seaborn as sns\n",
    "import gc\n",
    "import re\n",
    "import pandas as pd\n",
    "import lightgbm as lgb\n",
    "import numpy as np\n",
    "from sklearn.metrics import roc_auc_score, precision_recall_curve, roc_curve, average_precision_score\n",
    "from sklearn.model_selection import KFold\n",
    "from lightgbm import LGBMClassifier\n",
    "import matplotlib.pyplot as plt\n",
    "import seaborn as sns\n",
    "import gc\n",
    "from sklearn.model_selection import StratifiedKFold\n",
    "from dateutil.relativedelta import relativedelta\n",
    "import sklearn"
   ]
  },
  {
   "cell_type": "markdown",
   "metadata": {},
   "source": [
    "## 设置与读取"
   ]
  },
  {
   "cell_type": "code",
   "execution_count": 2,
   "metadata": {},
   "outputs": [],
   "source": [
    "train_data = pd.read_csv('data/train_public.csv')\n",
    "test_public = pd.read_csv('data/test_public.csv')\n",
    "train_inte = pd.read_csv('data/train_internet.csv')\n",
    "\n",
    "pd.set_option('max_columns', None)\n",
    "pd.set_option('max_rows', 200)\n",
    "pd.set_option('float_format', lambda x: '%.3f' % x)"
   ]
  },
  {
   "cell_type": "markdown",
   "metadata": {},
   "source": [
    "## 模型模块"
   ]
  },
  {
   "cell_type": "code",
   "execution_count": 3,
   "metadata": {},
   "outputs": [],
   "source": [
    "def train_model(data_, test_, y_, folds_):\n",
    "    oof_preds = np.zeros(data_.shape[0])    #行数\n",
    "    sub_preds = np.zeros(test_.shape[0])\n",
    "    feature_importance_df = pd.DataFrame()\n",
    "    feats = [f for f in data_.columns if f not in ['loan_id', 'user_id', 'isDefault'] ]\n",
    "    for n_fold, (trn_idx, val_idx) in enumerate(folds_.split(data_)):\n",
    "        trn_x, trn_y = data_[feats].iloc[trn_idx], y_.iloc[trn_idx]\n",
    "        val_x, val_y = data_[feats].iloc[val_idx], y_.iloc[val_idx]\n",
    "        clf = LGBMClassifier(\n",
    "            n_estimators=4000,\n",
    "            learning_rate=0.08,\n",
    "            num_leaves=2**5,\n",
    "            colsample_bytree=.65,\n",
    "            subsample=.9,\n",
    "            max_depth=5,\n",
    "#            max_bin=250,\n",
    "            reg_alpha=.3,\n",
    "            reg_lambda=.3,\n",
    "            min_split_gain=.01,\n",
    "            min_child_weight=2,\n",
    "            silent=-1,\n",
    "            verbose=-1,\n",
    "        )\n",
    "        \n",
    "        clf.fit(trn_x, trn_y, \n",
    "                eval_set= [(trn_x, trn_y), (val_x, val_y)], \n",
    "                eval_metric='auc', verbose=100, early_stopping_rounds=40  #30\n",
    "               )\n",
    "\n",
    "        oof_preds[val_idx] = clf.predict_proba(val_x, num_iteration=clf.best_iteration_)[:, 1]\n",
    "        sub_preds += clf.predict_proba(test_[feats], num_iteration=clf.best_iteration_)[:, 1] / folds_.n_splits\n",
    "        \n",
    "        fold_importance_df = pd.DataFrame()\n",
    "        fold_importance_df[\"feature\"] = feats\n",
    "        fold_importance_df[\"importance\"] = clf.feature_importances_\n",
    "        fold_importance_df[\"fold\"] = n_fold + 1\n",
    "        feature_importance_df = pd.concat([feature_importance_df, fold_importance_df], axis=0)\n",
    "        \n",
    "        print('Fold %2d AUC : %.6f' % (n_fold + 1, roc_auc_score(val_y, oof_preds[val_idx])))\n",
    "        del clf, trn_x, trn_y, val_x, val_y\n",
    "        gc.collect()\n",
    "        \n",
    "    print('Full AUC score %.6f' % roc_auc_score(y, oof_preds)) \n",
    "    \n",
    "    test_['isDefault'] = sub_preds\n",
    "\n",
    "    return oof_preds, test_[['loan_id', 'isDefault']], feature_importance_df\n",
    "    \n",
    "def display_importances(feature_importance_df_):\n",
    "    # Plot feature importances\n",
    "    cols = feature_importance_df_[[\"feature\", \"importance\"]].groupby(\"feature\").mean().sort_values(\n",
    "        by=\"importance\", ascending=False)[:50].index\n",
    "    \n",
    "    best_features = feature_importance_df_.loc[feature_importance_df_.feature.isin(cols)]\n",
    "    \n",
    "    plt.figure(figsize=(8,10))\n",
    "    sns.barplot(x=\"importance\", y=\"feature\", \n",
    "                data=best_features.sort_values(by=\"importance\", ascending=False))\n",
    "    plt.title('LightGBM Features (avg over folds)')\n",
    "    plt.tight_layout()\n",
    "    plt.savefig('lgbm_importances.png')"
   ]
  },
  {
   "cell_type": "code",
   "execution_count": 4,
   "metadata": {},
   "outputs": [],
   "source": [
    "def workYearDIc(x):\n",
    "    if str(x)=='nan':\n",
    "        return -1\n",
    "    x = x.replace('< 1','0')\n",
    "    return int(re.search('(\\d+)', x).group())\n",
    "\n",
    "def findDig(val):\n",
    "    fd = re.search('(\\d+-)', val)\n",
    "    if fd is None:\n",
    "        return '1-'+val\n",
    "    return val + '-01'\n",
    "\n",
    "\n",
    "class_dict = {\n",
    "    'A': 1,\n",
    "    'B': 2,\n",
    "    'C': 3,\n",
    "    'D': 4,\n",
    "    'E': 5,\n",
    "    'F': 6,\n",
    "    'G': 7,\n",
    "}\n",
    "timeMax = pd.to_datetime('1-Dec-21')"
   ]
  },
  {
   "cell_type": "markdown",
   "metadata": {},
   "source": [
    "## 数据预处理"
   ]
  },
  {
   "cell_type": "code",
   "execution_count": 5,
   "metadata": {},
   "outputs": [],
   "source": [
    "# 特征融合\n",
    "train_data['loan_year']=train_data['total_loan']/train_data['year_of_loan']\n",
    "test_public['loan_year']=test_public['total_loan']/test_public['year_of_loan']\n",
    "train_inte['loan_year']=train_inte['total_loan']/train_inte['year_of_loan']\n",
    "\n",
    "train_data['early_ratio']=train_data['early_return_amount']/train_data['total_loan']\n",
    "test_public['early_ratio']=test_public['early_return_amount']/test_public['total_loan']\n",
    "train_inte['early_ratio']=train_inte['early_return_amount']/train_inte['total_loan']\n",
    "\n",
    "train_data['early_times_ratio']=train_data['early_return']/train_data['year_of_loan']\n",
    "test_public['early_times_ratio']=test_public['early_return']/test_public['year_of_loan']\n",
    "train_inte['early_times_ratio']=train_inte['early_return']/train_inte['year_of_loan']\n",
    "\n",
    "train_data['recircle_ratio']=train_data['recircle_b']/train_data['total_loan']\n",
    "test_public['recircle_ratio']=test_public['recircle_b']/test_public['total_loan']\n",
    "train_inte['recircle_ratio']=train_inte['recircle_b']/train_inte['total_loan']\n",
    "\n",
    "train_data['recircle_amt']=train_data['recircle_u']*train_data['total_loan']\n",
    "test_public['recircle_amt']=test_public['recircle_u']*test_public['total_loan']\n",
    "train_inte['recircle_amt']=train_inte['recircle_u']*train_inte['total_loan']"
   ]
  },
  {
   "cell_type": "code",
   "execution_count": 6,
   "metadata": {},
   "outputs": [],
   "source": [
    "train_data['work_year'] = train_data['work_year'].map(workYearDIc)    #缺失值填充为-1 其他和baseline一样\n",
    "test_public['work_year'] = test_public['work_year'].map(workYearDIc)\n",
    "train_data['class'] = train_data['class'].map(class_dict)    #从1开始编码 但顺序与baseline相同\n",
    "test_public['class'] = test_public['class'].map(class_dict)\n",
    "\n",
    "train_data['earlies_credit_mon'] = pd.to_datetime(train_data['earlies_credit_mon'].map(findDig))    #缺年份补2001年 缺日补1号\n",
    "test_public['earlies_credit_mon'] = pd.to_datetime(test_public['earlies_credit_mon'].map(findDig))\n",
    "#对时间大于 2021-12-01 的 -100 年\n",
    "train_data.loc[ train_data['earlies_credit_mon']>timeMax,'earlies_credit_mon' ] = train_data.loc[ train_data['earlies_credit_mon']>timeMax,'earlies_credit_mon' ]+  pd.offsets.DateOffset(years=-100)  \n",
    "test_public.loc[ test_public['earlies_credit_mon']>timeMax,'earlies_credit_mon' ] = test_public.loc[ test_public['earlies_credit_mon']>timeMax,'earlies_credit_mon' ]+ pd.offsets.DateOffset(years=-100)\n",
    "train_data['issue_date'] = pd.to_datetime(train_data['issue_date'])\n",
    "test_public['issue_date'] = pd.to_datetime(test_public['issue_date'])\n",
    "\n",
    "#Internet数据处理\n",
    "train_inte['work_year'] = train_inte['work_year'].map(workYearDIc)\n",
    "train_inte['class'] = train_inte['class'].map(class_dict)\n",
    "train_inte['earlies_credit_mon'] = pd.to_datetime(train_inte['earlies_credit_mon'])\n",
    "train_inte['issue_date'] = pd.to_datetime(train_inte['issue_date'])"
   ]
  },
  {
   "cell_type": "markdown",
   "metadata": {},
   "source": [
    "## 时间特征"
   ]
  },
  {
   "cell_type": "code",
   "execution_count": 7,
   "metadata": {},
   "outputs": [],
   "source": [
    "train_data['issue_date_month'] = train_data['issue_date'].dt.month\n",
    "test_public['issue_date_month'] = test_public['issue_date'].dt.month\n",
    "train_data['issue_date_dayofweek'] = train_data['issue_date'].dt.dayofweek\n",
    "test_public['issue_date_dayofweek'] = test_public['issue_date'].dt.dayofweek\n",
    "\n",
    "train_data['earliesCreditMon'] = train_data['earlies_credit_mon'].dt.month\n",
    "test_public['earliesCreditMon'] = test_public['earlies_credit_mon'].dt.month\n",
    "train_data['earliesCreditYear'] = train_data['earlies_credit_mon'].dt.year\n",
    "test_public['earliesCreditYear'] = test_public['earlies_credit_mon'].dt.year\n",
    "\n",
    "###internet数据\n",
    "\n",
    "train_inte['issue_date_month'] = train_inte['issue_date'].dt.month\n",
    "train_inte['issue_date_dayofweek'] = train_inte['issue_date'].dt.dayofweek\n",
    "train_inte['earliesCreditMon'] = train_inte['earlies_credit_mon'].dt.month\n",
    "train_inte['earliesCreditYear'] = train_inte['earlies_credit_mon'].dt.year"
   ]
  },
  {
   "cell_type": "markdown",
   "metadata": {},
   "source": [
    "## 自然编码"
   ]
  },
  {
   "cell_type": "code",
   "execution_count": 8,
   "metadata": {},
   "outputs": [],
   "source": [
    "cat_cols = ['employer_type', 'industry']\n",
    "\n",
    "from sklearn.preprocessing import LabelEncoder\n",
    "for col in cat_cols:\n",
    "    lbl = LabelEncoder().fit(train_data[col])\n",
    "    train_data[col] = lbl.transform(train_data[col])\n",
    "    test_public[col] = lbl.transform(test_public[col])\n",
    "    \n",
    "    #Internet处理\n",
    "    train_inte[col] = lbl.transform(train_inte[col])\n",
    "    \n",
    "col_to_drop = ['issue_date', 'earlies_credit_mon']\n",
    "train_data = train_data.drop(col_to_drop, axis=1)\n",
    "test_public = test_public.drop(col_to_drop, axis=1 )\n",
    "\n",
    "#Internet处理\n",
    "train_inte = train_inte.drop(col_to_drop, axis=1 )\n",
    "tr_cols = set(train_data.columns)\n",
    "same_col = list(tr_cols.intersection(set(train_inte.columns)))\n",
    "train_inteSame = train_inte[same_col].copy()\n",
    "Inte_add_cos = list(tr_cols.difference(set(same_col)))\n",
    "for col in Inte_add_cos:\n",
    "    train_inteSame[col] = np.nan"
   ]
  },
  {
   "cell_type": "markdown",
   "metadata": {},
   "source": [
    "## train 预测 Internet"
   ]
  },
  {
   "cell_type": "code",
   "execution_count": 9,
   "metadata": {},
   "outputs": [
    {
     "name": "stdout",
     "output_type": "stream",
     "text": [
      "Training until validation scores don't improve for 40 rounds\n",
      "[100]\ttraining's auc: 0.958588\ttraining's binary_logloss: 0.215396\tvalid_1's auc: 0.879349\tvalid_1's binary_logloss: 0.323659\n",
      "Early stopping, best iteration is:\n",
      "[72]\ttraining's auc: 0.946223\ttraining's binary_logloss: 0.231045\tvalid_1's auc: 0.880551\tvalid_1's binary_logloss: 0.32176\n",
      "Fold  1 AUC : 0.880551\n",
      "Training until validation scores don't improve for 40 rounds\n",
      "Early stopping, best iteration is:\n",
      "[33]\ttraining's auc: 0.927236\ttraining's binary_logloss: 0.264738\tvalid_1's auc: 0.869421\tvalid_1's binary_logloss: 0.30943\n",
      "Fold  2 AUC : 0.869421\n",
      "Training until validation scores don't improve for 40 rounds\n",
      "Early stopping, best iteration is:\n",
      "[28]\ttraining's auc: 0.920874\ttraining's binary_logloss: 0.274991\tvalid_1's auc: 0.876323\tvalid_1's binary_logloss: 0.301971\n",
      "Fold  3 AUC : 0.876323\n",
      "Training until validation scores don't improve for 40 rounds\n",
      "Early stopping, best iteration is:\n",
      "[50]\ttraining's auc: 0.932278\ttraining's binary_logloss: 0.255595\tvalid_1's auc: 0.900547\tvalid_1's binary_logloss: 0.277796\n",
      "Fold  4 AUC : 0.900547\n",
      "Training until validation scores don't improve for 40 rounds\n",
      "Early stopping, best iteration is:\n",
      "[28]\ttraining's auc: 0.920213\ttraining's binary_logloss: 0.273564\tvalid_1's auc: 0.875264\tvalid_1's binary_logloss: 0.310664\n",
      "Fold  5 AUC : 0.875264\n",
      "Full AUC score 0.877901\n"
     ]
    }
   ],
   "source": [
    "y = train_data['isDefault']\n",
    "folds = KFold(n_splits=5, shuffle=True, random_state=20000413)\n",
    "oof_preds, IntePre, importances = train_model(train_data, train_inteSame, y, folds)"
   ]
  },
  {
   "cell_type": "code",
   "execution_count": 10,
   "metadata": {},
   "outputs": [
    {
     "name": "stderr",
     "output_type": "stream",
     "text": [
      "<ipython-input-10-fdb6375c5692>:1: SettingWithCopyWarning: \n",
      "A value is trying to be set on a copy of a slice from a DataFrame.\n",
      "Try using .loc[row_indexer,col_indexer] = value instead\n",
      "\n",
      "See the caveats in the documentation: https://pandas.pydata.org/pandas-docs/stable/user_guide/indexing.html#returning-a-view-versus-a-copy\n",
      "  IntePre['isDef'] = train_inte['isDefault']\n"
     ]
    }
   ],
   "source": [
    "IntePre['isDef'] = train_inte['isDefault']"
   ]
  },
  {
   "cell_type": "code",
   "execution_count": 11,
   "metadata": {},
   "outputs": [
    {
     "data": {
      "text/plain": [
       "0.7292232465538102"
      ]
     },
     "execution_count": 11,
     "metadata": {},
     "output_type": "execute_result"
    }
   ],
   "source": [
    "from sklearn.metrics import roc_auc_score\n",
    "roc_auc_score(IntePre['isDef'],IntePre.isDefault)"
   ]
  },
  {
   "cell_type": "code",
   "execution_count": 12,
   "metadata": {},
   "outputs": [
    {
     "name": "stderr",
     "output_type": "stream",
     "text": [
      "D:\\Anaconda\\lib\\site-packages\\seaborn\\distributions.py:2557: FutureWarning: `distplot` is a deprecated function and will be removed in a future version. Please adapt your code to use either `displot` (a figure-level function with similar flexibility) or `histplot` (an axes-level function for histograms).\n",
      "  warnings.warn(msg, FutureWarning)\n"
     ]
    },
    {
     "data": {
      "image/png": "[encoded data removed]",
      "text/plain": [
       "<Figure size 1152x432 with 1 Axes>"
      ]
     },
     "metadata": {
      "needs_background": "light"
     },
     "output_type": "display_data"
    }
   ],
   "source": [
    "# IntePre.isDefault\n",
    "plt.figure(figsize=(16,6))\n",
    "plt.title(\"Distribution of Default values IntePre\")\n",
    "sns.distplot(IntePre['isDefault'],color=\"black\", kde=True,bins=120, label='train_data')\n",
    "# sns.distplot(train_inte[col],color=\"red\", kde=True,bins=120, label='train_inte')\n",
    "plt.legend();plt.show()"
   ]
  },
  {
   "cell_type": "code",
   "execution_count": 13,
   "metadata": {},
   "outputs": [],
   "source": [
    "# 选择阈值0.05，从internet表中提取预测小于该概率的样本，并对不同来源的样本赋予来源值\n",
    "InteId = IntePre.loc[IntePre.isDefault<0.05, 'loan_id'].tolist()\n",
    "\n",
    "train_data['dataSourse'] = 1\n",
    "test_public['dataSourse'] = 1\n",
    "train_inteSame['dataSourse'] = 0\n",
    "train_inteSame['isDefault'] = train_inte['isDefault']    # 重新覆盖为真实标签\n",
    "use_te = train_inteSame[train_inteSame.loan_id.isin( InteId )].copy()\n",
    "data = pd.concat([ train_data,test_public,use_te]).reset_index(drop=True)"
   ]
  },
  {
   "cell_type": "markdown",
   "metadata": {},
   "source": [
    "## 模型与输出"
   ]
  },
  {
   "cell_type": "code",
   "execution_count": 14,
   "metadata": {},
   "outputs": [
    {
     "name": "stdout",
     "output_type": "stream",
     "text": [
      "Training until validation scores don't improve for 40 rounds\n",
      "[100]\ttraining's auc: 0.993189\ttraining's binary_logloss: 0.033438\tvalid_1's auc: 0.98566\tvalid_1's binary_logloss: 0.0447512\n",
      "Early stopping, best iteration is:\n",
      "[62]\ttraining's auc: 0.991043\ttraining's binary_logloss: 0.0365793\tvalid_1's auc: 0.985903\tvalid_1's binary_logloss: 0.0445378\n",
      "Fold  1 AUC : 0.985903\n",
      "Training until validation scores don't improve for 40 rounds\n",
      "Early stopping, best iteration is:\n",
      "[25]\ttraining's auc: 0.989325\ttraining's binary_logloss: 0.0423763\tvalid_1's auc: 0.985221\tvalid_1's binary_logloss: 0.0467786\n",
      "Fold  2 AUC : 0.985221\n",
      "Training until validation scores don't improve for 40 rounds\n",
      "Early stopping, best iteration is:\n",
      "[36]\ttraining's auc: 0.990092\ttraining's binary_logloss: 0.0391234\tvalid_1's auc: 0.985739\tvalid_1's binary_logloss: 0.0447063\n",
      "Fold  3 AUC : 0.985739\n",
      "Training until validation scores don't improve for 40 rounds\n",
      "[100]\ttraining's auc: 0.993463\ttraining's binary_logloss: 0.0334876\tvalid_1's auc: 0.984685\tvalid_1's binary_logloss: 0.0438516\n",
      "Early stopping, best iteration is:\n",
      "[60]\ttraining's auc: 0.991496\ttraining's binary_logloss: 0.0365166\tvalid_1's auc: 0.98489\tvalid_1's binary_logloss: 0.0438241\n",
      "Fold  4 AUC : 0.984890\n",
      "Training until validation scores don't improve for 40 rounds\n",
      "Early stopping, best iteration is:\n",
      "[34]\ttraining's auc: 0.989544\ttraining's binary_logloss: 0.0405036\tvalid_1's auc: 0.985484\tvalid_1's binary_logloss: 0.0436271\n",
      "Fold  5 AUC : 0.985484\n",
      "Full AUC score 0.985364\n"
     ]
    }
   ],
   "source": [
    "train = data[data['isDefault'].notna()]\n",
    "test  = data[data['isDefault'].isna()]\n",
    "\n",
    "del data\n",
    "del train_data,test_public\n",
    "\n",
    "y = train['isDefault']\n",
    "folds = KFold(n_splits=5, shuffle=True, random_state=20000413)\n",
    "oof_preds, test_preds, importances = train_model(train, test, y, folds)"
   ]
  },
  {
   "cell_type": "code",
   "execution_count": 15,
   "metadata": {},
   "outputs": [],
   "source": [
    "test_preds.rename({'loan_id': 'id'}, axis=1)[['id', 'isDefault']].to_csv('submit/submission.csv', index=False)"
   ]
  },
  {
   "cell_type": "code",
   "execution_count": 16,
   "metadata": {
    "scrolled": true
   },
   "outputs": [],
   "source": [
    "# display_importances(importances)"
   ]
  }
 ],
 "metadata": {
  "kernelspec": {
   "display_name": "Python 3",
   "language": "python",
   "name": "python3"
  },
  "language_info": {
   "codemirror_mode": {
    "name": "ipython",
    "version": 3
   },
   "file_extension": ".py",
   "mimetype": "text/x-python",
   "name": "python",
   "nbconvert_exporter": "python",
   "pygments_lexer": "ipython3",
   "version": "3.8.8"
  }
 },
 "nbformat": 4,
 "nbformat_minor": 2
}
