{
 "cells": [
  {
   "cell_type": "code",
   "execution_count": 1,
   "id": "d5863fff",
   "metadata": {},
   "outputs": [],
   "source": [
    "import pandas as pd"
   ]
  },
  {
   "cell_type": "code",
   "execution_count": 2,
   "id": "e19d4053",
   "metadata": {},
   "outputs": [],
   "source": [
    "train_data = pd.read_csv('data/train_public.csv')\n",
    "test_data = pd.read_csv('data/test_public.csv')\n",
    "sub = pd.read_csv('submit/submission.csv')"
   ]
  },
  {
   "cell_type": "code",
   "execution_count": 3,
   "id": "77f4092f",
   "metadata": {},
   "outputs": [],
   "source": [
    "sub = sub.rename(columns={'id': 'loan_id'})\n",
    "sub.loc[sub['isDefault'] < 0.5, 'isDefault'] = 0\n",
    "new_sub = sub[(sub['isDefault'] == 0)]"
   ]
  },
  {
   "cell_type": "code",
   "execution_count": 4,
   "id": "15804193",
   "metadata": {},
   "outputs": [],
   "source": [
    "new_test_data = test_data.merge(new_sub, on = 'loan_id', how = 'inner')\n",
    "new_train_data = pd.concat([train_data, new_test_data]).reset_index(drop = True)\n",
    "new_train_data.to_csv(\"data/new_train_public.csv\", index = False)"
   ]
  }
 ],
 "metadata": {
  "kernelspec": {
   "display_name": "Python 3",
   "language": "python",
   "name": "python3"
  },
  "language_info": {
   "codemirror_mode": {
    "name": "ipython",
    "version": 3
   },
   "file_extension": ".py",
   "mimetype": "text/x-python",
   "name": "python",
   "nbconvert_exporter": "python",
   "pygments_lexer": "ipython3",
   "version": "3.8.8"
  }
 },
 "nbformat": 4,
 "nbformat_minor": 5
}
