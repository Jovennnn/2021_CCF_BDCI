{
 "cells": [
  {
   "cell_type": "code",
   "execution_count": 1,
   "id": "35135fe0",
   "metadata": {},
   "outputs": [],
   "source": [
    "import pandas as pd"
   ]
  },
  {
   "cell_type": "code",
   "execution_count": 2,
   "id": "4cbecd0c",
   "metadata": {},
   "outputs": [],
   "source": [
    "train_data = pd.read_csv('ori_data/train_public.csv')\n",
    "test_public = pd.read_csv('ori_data/test_public.csv')\n",
    "train_inte = pd.read_csv('ori_data/train_internet.csv')"
   ]
  },
  {
   "cell_type": "code",
   "execution_count": 3,
   "id": "1905a921",
   "metadata": {},
   "outputs": [],
   "source": [
    "def modify(table):\n",
    "    column_list = ['early_return', 'early_return_amount', 'early_return_amount_3mon']\n",
    "    temp = table[column_list]\n",
    "    for index, return_tuple in temp.iterrows():\n",
    "        if return_tuple[1] != 0 and return_tuple[0] == 0:\n",
    "            temp.loc[index,'early_return'] = 1\n",
    "    for index, return_tuple in temp.iterrows():\n",
    "        if return_tuple[2] != 0 and return_tuple[0] == 0:\n",
    "            temp.loc[index,'early_return'] = 1\n",
    "    table[column_list] = temp[column_list]"
   ]
  },
  {
   "cell_type": "code",
   "execution_count": 4,
   "id": "b65c8022",
   "metadata": {},
   "outputs": [
    {
     "name": "stderr",
     "output_type": "stream",
     "text": [
      "D:\\Anaconda\\lib\\site-packages\\pandas\\core\\indexing.py:1720: SettingWithCopyWarning: \n",
      "A value is trying to be set on a copy of a slice from a DataFrame.\n",
      "Try using .loc[row_indexer,col_indexer] = value instead\n",
      "\n",
      "See the caveats in the documentation: https://pandas.pydata.org/pandas-docs/stable/user_guide/indexing.html#returning-a-view-versus-a-copy\n",
      "  self._setitem_single_column(loc, value, pi)\n"
     ]
    }
   ],
   "source": [
    "modify(train_data)\n",
    "modify(test_public)\n",
    "modify(train_inte)"
   ]
  },
  {
   "cell_type": "code",
   "execution_count": 5,
   "id": "2f7c31fe",
   "metadata": {},
   "outputs": [],
   "source": [
    "# 统一标签字段名称\n",
    "train_inte = train_inte.rename(columns={'is_default':'isDefault'})"
   ]
  },
  {
   "cell_type": "code",
   "execution_count": 6,
   "id": "1c908d53",
   "metadata": {},
   "outputs": [],
   "source": [
    "train_data.to_csv(\"data/train_public.csv\", index = False)\n",
    "test_public.to_csv(\"data/test_public.csv\", index = False)\n",
    "train_inte.to_csv(\"data/train_internet.csv\", index = False)"
   ]
  }
 ],
 "metadata": {
  "kernelspec": {
   "display_name": "Python 3",
   "language": "python",
   "name": "python3"
  },
  "language_info": {
   "codemirror_mode": {
    "name": "ipython",
    "version": 3
   },
   "file_extension": ".py",
   "mimetype": "text/x-python",
   "name": "python",
   "nbconvert_exporter": "python",
   "pygments_lexer": "ipython3",
   "version": "3.8.8"
  }
 },
 "nbformat": 4,
 "nbformat_minor": 5
}
